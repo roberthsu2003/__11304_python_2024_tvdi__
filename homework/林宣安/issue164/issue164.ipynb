{
 "cells": [
  {
   "cell_type": "code",
   "execution_count": 1,
   "metadata": {},
   "outputs": [
    {
     "name": "stdout",
     "output_type": "stream",
     "text": [
      "{\n",
      "    \"name\": \"Alice\",\n",
      "    \"age\": 30,\n",
      "    \"address\": {\n",
      "        \"street\": \"123 Main St\",\n",
      "        \"city\": \"Springfield\",\n",
      "        \"zipcode\": \"12345\"\n",
      "    },\n",
      "    \"projects\": [\n",
      "        {\n",
      "            \"name\": \"Project A\",\n",
      "            \"status\": \"completed\"\n",
      "        },\n",
      "        {\n",
      "            \"name\": \"Project B\",\n",
      "            \"status\": \"ongoing\"\n",
      "        }\n",
      "    ]\n",
      "}\n"
     ]
    }
   ],
   "source": [
    "with open(\"data.json\", \"r\") as data:\n",
    "    data = data.read()\n",
    "print(data)"
   ]
  },
  {
   "cell_type": "code",
   "execution_count": 2,
   "metadata": {},
   "outputs": [
    {
     "name": "stdout",
     "output_type": "stream",
     "text": [
      "{'name': 'Alice', 'age': 30, 'address': {'street': '123 Main St', 'city': 'Springfield', 'zipcode': 12345}, 'projects': [{'name': 'Project A', 'status': 'completed'}, {'name': 'Project B', 'status': 'ongoing'}]}\n"
     ]
    }
   ],
   "source": [
    "from pydantic import BaseModel\n",
    "\n",
    "class Dict_Info(BaseModel):\n",
    "    name:str\n",
    "    status:str\n",
    "\n",
    "class Projects(BaseModel):\n",
    "    projects:list[Dict_Info]\n",
    "\n",
    "class Address(BaseModel):\n",
    "    street:str\n",
    "    city:str\n",
    "    zipcode:int\n",
    "\n",
    "class Person(BaseModel):\n",
    "    name:str\n",
    "    age:int\n",
    "    address:Address\n",
    "    projects:list[Dict_Info]\n",
    "\n",
    "person:Person = Person.model_validate_json(data)\n",
    "# 轉換成dict型別\n",
    "dict_data = person.model_dump()\n",
    "print(dict_data)"
   ]
  },
  {
   "cell_type": "code",
   "execution_count": 1,
   "metadata": {},
   "outputs": [],
   "source": [
    "def main():\n",
    "    for key, value in dict_data.items():\n",
    "        # isinstance bool判斷 -> 判斷variable是否為相同的類型\n",
    "        if isinstance(value, dict):\n",
    "            print(f\"{key}:\")\n",
    "            for address_key, address_value in value.items():\n",
    "                print(f\"{address_key:>12}: {address_value}\")\n",
    "        elif  isinstance(value, list):\n",
    "            print(f\"{key}:\")\n",
    "            for project_data in dict_data['projects']:\n",
    "                for project_key, project_value in project_data.items():\n",
    "                    print(f\"{project_key:>12}: {project_value}\")   \n",
    "        else:\n",
    "            print(f\"{key}: {value}\")\n",
    "        print(\"-\" * 30)"
   ]
  },
  {
   "cell_type": "code",
   "execution_count": 4,
   "metadata": {},
   "outputs": [
    {
     "name": "stdout",
     "output_type": "stream",
     "text": [
      "name: Alice\n",
      "------------------------------\n",
      "age: 30\n",
      "------------------------------\n",
      "address:\n",
      "      street: 123 Main St\n",
      "        city: Springfield\n",
      "     zipcode: 12345\n",
      "------------------------------\n",
      "projects:\n",
      "        name: Project A\n",
      "      status: completed\n",
      "        name: Project B\n",
      "      status: ongoing\n",
      "------------------------------\n"
     ]
    }
   ],
   "source": [
    "if __name__ == '__main__':\n",
    "    main()"
   ]
  }
 ],
 "metadata": {
  "kernelspec": {
   "display_name": "venv2",
   "language": "python",
   "name": "python3"
  },
  "language_info": {
   "codemirror_mode": {
    "name": "ipython",
    "version": 3
   },
   "file_extension": ".py",
   "mimetype": "text/x-python",
   "name": "python",
   "nbconvert_exporter": "python",
   "pygments_lexer": "ipython3",
   "version": "3.10.14"
  }
 },
 "nbformat": 4,
 "nbformat_minor": 2
}
