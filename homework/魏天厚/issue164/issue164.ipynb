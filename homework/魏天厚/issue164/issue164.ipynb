{
 "cells": [
  {
   "cell_type": "code",
   "execution_count": 1,
   "metadata": {},
   "outputs": [
    {
     "name": "stdout",
     "output_type": "stream",
     "text": [
      "{\n",
      "    \"name\": \"Alice\",\n",
      "    \"age\": 30,\n",
      "    \"address\": {\n",
      "        \"street\": \"123 Main St\",\n",
      "        \"city\": \"Springfield\",\n",
      "        \"zipcode\": \"12345\"\n",
      "    },\n",
      "    \"projects\": [\n",
      "        {\n",
      "            \"name\": \"Project A\",\n",
      "            \"status\": \"completed\"\n",
      "        },\n",
      "        {\n",
      "            \"name\": \"Project B\",\n",
      "            \"status\": \"ongoing\"\n",
      "        }\n",
      "    ]\n",
      "}\n"
     ]
    }
   ],
   "source": [
    "with open(\"data.json\", \"r\") as data:\n",
    "    data = data.read()\n",
    "print(data)"
   ]
  },
  {
   "cell_type": "code",
   "execution_count": 2,
   "metadata": {},
   "outputs": [
    {
     "name": "stdout",
     "output_type": "stream",
     "text": [
      "name: Alice\n",
      "age: 30\n",
      "address:\n",
      "    street: 123 Main St\n",
      "    city: Springfield\n",
      "    zipcode: 12345\n",
      "projects:\n",
      "    name: Project A\n",
      "    status: completed\n",
      "    name: Project B\n",
      "    status: ongoing\n"
     ]
    }
   ],
   "source": [
    "from pydantic import BaseModel\n",
    "from typing import List\n",
    "\n",
    "# 定義內部的項目模型\n",
    "class Project(BaseModel):\n",
    "    name: str\n",
    "    status: str\n",
    "\n",
    "# 定義地址模型\n",
    "class Address(BaseModel):\n",
    "    street: str\n",
    "    city: str\n",
    "    zipcode: str\n",
    "\n",
    "# 定義主要的資料模型\n",
    "class Person(BaseModel):\n",
    "    name: str\n",
    "    age: int\n",
    "    address: Address\n",
    "    projects: List[Project]\n",
    "\n",
    "# JSON資料\n",
    "data = {\n",
    "    \"name\": \"Alice\",\n",
    "    \"age\": 30,\n",
    "    \"address\": {\n",
    "        \"street\": \"123 Main St\",\n",
    "        \"city\": \"Springfield\",\n",
    "        \"zipcode\": \"12345\"\n",
    "    },\n",
    "    \"projects\": [\n",
    "        {\n",
    "            \"name\": \"Project A\",\n",
    "            \"status\": \"completed\"\n",
    "        },\n",
    "        {\n",
    "            \"name\": \"Project B\",\n",
    "            \"status\": \"ongoing\"\n",
    "        }\n",
    "    ]\n",
    "}\n",
    "\n",
    "# 使用Pydantic模型解析JSON資料\n",
    "person = Person(**data)\n",
    "\n",
    "# 將Pydantic模型轉換為Python字典\n",
    "person_dict = person.dict()\n",
    "\n",
    "# 定義一個遞迴函數來逐層打印字典\n",
    "def print_dict(d, indent=0):\n",
    "    for key, value in d.items():\n",
    "        if isinstance(value, dict):\n",
    "            print('    ' * indent + f\"{key}:\")\n",
    "            print_dict(value, indent + 1)\n",
    "        elif isinstance(value, list):\n",
    "            print('    ' * indent + f\"{key}:\")\n",
    "            for item in value:\n",
    "                if isinstance(item, dict):\n",
    "                    print_dict(item, indent + 1)\n",
    "                else:\n",
    "                    print('    ' * (indent + 1) + str(item))\n",
    "        else:\n",
    "            print('    ' * indent + f\"{key}: {value}\")\n",
    "\n",
    "# 使用自定義函數打印每個資料屬性換行\n",
    "print_dict(person_dict)\n"
   ]
  }
 ],
 "metadata": {
  "kernelspec": {
   "display_name": "venv1",
   "language": "python",
   "name": "python3"
  },
  "language_info": {
   "codemirror_mode": {
    "name": "ipython",
    "version": 3
   },
   "file_extension": ".py",
   "mimetype": "text/x-python",
   "name": "python",
   "nbconvert_exporter": "python",
   "pygments_lexer": "ipython3",
   "version": "3.12.3"
  }
 },
 "nbformat": 4,
 "nbformat_minor": 2
}
